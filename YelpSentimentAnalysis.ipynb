{
  "nbformat": 4,
  "nbformat_minor": 0,
  "metadata": {
    "colab": {
      "name": "YelpSentimentAnalysis.ipynb",
      "provenance": [],
      "collapsed_sections": [],
      "toc_visible": true,
      "include_colab_link": true
    },
    "kernelspec": {
      "name": "python3",
      "display_name": "Python 3"
    }
  },
  "cells": [
    {
      "cell_type": "markdown",
      "metadata": {
        "id": "view-in-github",
        "colab_type": "text"
      },
      "source": [
        "<a href=\"https://colab.research.google.com/github/paolapersico1/YelpSentimentAnalysis/blob/master/YelpSentimentAnalysis.ipynb\" target=\"_parent\"><img src=\"https://colab.research.google.com/assets/colab-badge.svg\" alt=\"Open In Colab\"/></a>"
      ]
    },
    {
      "cell_type": "markdown",
      "metadata": {
        "id": "GxhPZM_Uct4C"
      },
      "source": [
        "#**YELP SENTIMENT ANALYSIS**"
      ]
    },
    {
      "cell_type": "markdown",
      "metadata": {
        "id": "ndfWjutfgGrL"
      },
      "source": [
        "#**Introduction**\n",
        "\n",
        "The following project aims at automatically classifying Yelp reviews in two classes: positive and negative reviews, in order to create a model which can be used as foundation to perform sentiment analysis in contexts where a huge amount of unstructured data is available.\n",
        "\n",
        "The Yelp Open Dataset provided by the popular crowdsourcing company contains the reviews of the businesses of different cities located in the US and in Canada, as well as the corresponding ratings given by the users [1], so it is possible to adopt a supervised learning approach.\n",
        "\n",
        "The main steps are the following:\n",
        "\n",
        "\n",
        "1.   Data pre-processing\n",
        "2.   Feature extraction\n",
        "3.   Classifier training\n",
        "4.   Testing\n",
        "\n",
        "While the pre-processing and classification steps are somewhat trivial because of the extensive literature about natural language processing, there are many different approaches regarding textual feature extraction and the perfomance varies widely between different tasks [2].  \n",
        "\n",
        "Since we had limited memory resources (12 GB of RAM space and 15 GB of disk space), we discarded brute-force tecniques such as TF-IDF, which creates a dictionary based on term occurrence and rarity, and we used a word-embedding model called Word2Vec, which maps words into low-dimensional semantic vectors."
      ]
    },
    {
      "cell_type": "code",
      "metadata": {
        "id": "Aeh6NTqZV_XH"
      },
      "source": [
        "import warnings \n",
        "warnings.filterwarnings(\"ignore\", category=DeprecationWarning)"
      ],
      "execution_count": null,
      "outputs": []
    },
    {
      "cell_type": "markdown",
      "metadata": {
        "id": "1lrctBo4zGy6"
      },
      "source": [
        "**Data storage setting**\n",
        "\n",
        "Input and output data is saved in a Google Drive space, in order to avoid repeating expensive computations."
      ]
    },
    {
      "cell_type": "code",
      "metadata": {
        "id": "KgbThMXPe1UX",
        "outputId": "d09c64bd-aaa4-4abc-e6f7-ac0434fbf3ec",
        "colab": {
          "base_uri": "https://localhost:8080/",
          "height": 55
        }
      },
      "source": [
        "from google.colab import drive\n",
        "drive.mount('/content/drive')\n",
        "FOLDER = \"/content/drive/My Drive/Datasets/reviews/\"\n",
        "MODEL_FOLDER = \"/content/drive/My Drive/Models/\""
      ],
      "execution_count": null,
      "outputs": [
        {
          "output_type": "stream",
          "text": [
            "Drive already mounted at /content/drive; to attempt to forcibly remount, call drive.mount(\"/content/drive\", force_remount=True).\n"
          ],
          "name": "stdout"
        }
      ]
    },
    {
      "cell_type": "markdown",
      "metadata": {
        "id": "HDOsrFeMzZRM"
      },
      "source": [
        "**Libraries import**\n",
        "\n",
        "The main libraries used are:\n",
        "\n",
        "\n",
        "*   Pandas $\\rightarrow$ dataset import \n",
        "*   Gensim $\\rightarrow$ data pre-processing and feature extraction\n",
        "*   Scikit-learn $\\rightarrow$ classification\n",
        "\n"
      ]
    },
    {
      "cell_type": "code",
      "metadata": {
        "id": "LLRnJCKhWLEa"
      },
      "source": [
        "import pandas as pd\n",
        "import numpy as np\n",
        "import gensim\n",
        "import matplotlib.pyplot as plt \n",
        "import time\n",
        "import os\n",
        "from joblib import dump, load\n",
        "from gensim import corpora\n",
        "from gensim.utils import simple_preprocess\n",
        "from gensim.parsing.porter import PorterStemmer\n",
        "from gensim.models import Word2Vec\n",
        "from sklearn.model_selection import train_test_split\n",
        "from sklearn.naive_bayes import GaussianNB\n",
        "from sklearn.ensemble import RandomForestClassifier\n",
        "from sklearn.svm import LinearSVC\n",
        "from sklearn.neural_network import MLPClassifier \n",
        "from sklearn import metrics"
      ],
      "execution_count": null,
      "outputs": []
    },
    {
      "cell_type": "markdown",
      "metadata": {
        "id": "IdyB-RY4Ui_L"
      },
      "source": [
        "# **Data pre-processing**\n",
        "\n",
        "Data pre-processing is an important step because of the \"Garbage In Garbage Out\" principle: quality data is necessary for quality models. "
      ]
    },
    {
      "cell_type": "markdown",
      "metadata": {
        "id": "Y_5-Ji8qysC6"
      },
      "source": [
        "**Dataset Import**\n",
        "\n",
        "In order to avoid a RAM overflow, the 6 GB json dataset is read in chunks of 1 million rows; useless columns and rows with missing values are dropped; and only the first chunk is converted to csv."
      ]
    },
    {
      "cell_type": "code",
      "metadata": {
        "id": "vu9gOYvH8f03",
        "outputId": "938ef6ff-89ec-4124-adfb-95390d4a87c4",
        "colab": {
          "base_uri": "https://localhost:8080/",
          "height": 52
        }
      },
      "source": [
        "def load_yelp_data(output_filename, limit = False, chunksize = 1000000):\n",
        "  review = pd.read_json(FOLDER + \"yelp_academic_dataset_review.json\", lines=True,\n",
        "                        dtype={'review_id':str,'user_id':str,\n",
        "                              'business_id':str,'stars':int,\n",
        "                              'useful':int,'funny':int,'cool':int,\n",
        "                              'text':str,'date':str},\n",
        "                        chunksize=chunksize)\n",
        "  \n",
        "  # There are multiple chunks to be read\n",
        "  chunk_list = []\n",
        "  for chunk_review in review:\n",
        "    # Drop columns that aren't needed\n",
        "    chunk_review = chunk_review.drop(['review_id', 'user_id', 'business_id', 'useful', 'funny', 'cool', 'date'], axis=1)\n",
        "    # Drop rows with missing values\n",
        "    chunk_review = chunk_review.dropna()\n",
        "    # Add chunk\n",
        "    chunk_list.append(chunk_review)\n",
        "    if limit and len(chunk_list) == limit:\n",
        "      break\n",
        "  # Concatenate the trimmed chunks to one dataframe\n",
        "  df = pd.concat(chunk_list, ignore_index=True, join='outer', axis=0)\n",
        "  # convert to csv\n",
        "  df.to_csv(output_filename, index=False)\n",
        "\n",
        "# load the csv\n",
        "yelp_reviews_csv = FOLDER + \"yelp_reviews.csv\"\n",
        "if os.path.isfile(yelp_reviews_csv) and os.access(yelp_reviews_csv, os.R_OK):\n",
        "    print(\"File exists and is readable\")\n",
        "else:\n",
        "  print(\"Either the file is missing or not readable, we create a new one\")\n",
        "  load_yelp_data(yelp_reviews_csv, limit = 1)\n",
        "\n",
        "# read the csv\n",
        "df = pd.read_csv(yelp_reviews_csv)\n",
        "print(\"The dataset is ready to be used\")\n"
      ],
      "execution_count": null,
      "outputs": [
        {
          "output_type": "stream",
          "text": [
            "File exists and is readable\n",
            "The dataset is ready to be used\n"
          ],
          "name": "stdout"
        }
      ]
    },
    {
      "cell_type": "markdown",
      "metadata": {
        "id": "pv-jywo103sU"
      },
      "source": [
        "**Examples labeling**\n",
        "\n",
        "A sentiment column whose value depends on the \"stars\" given by the author of the review is added. We consider reviews with 1-2 stars as negative and reviews with 4-5 stars as positive. \n",
        "\n",
        "Plotting the sentiment distribution, it is clear that negative and neutral reviews are outnumbered by positive reviews."
      ]
    },
    {
      "cell_type": "code",
      "metadata": {
        "id": "RdYSkSxGWO93",
        "outputId": "d94fd767-392b-4f47-fa68-f187ed3da996",
        "colab": {
          "base_uri": "https://localhost:8080/",
          "height": 295
        }
      },
      "source": [
        "# Function to convert stars to sentiment\n",
        "def get_sentiment(stars):\n",
        "  if stars <= 2:\n",
        "      return -1               #negative review\n",
        "  elif stars == 3:\n",
        "      return 0                #neutral review\n",
        "  else:\n",
        "      return 1                #positive review\n",
        "\n",
        "# convert stars to sentiment for each row\n",
        "df['sentiment'] = [ get_sentiment(x) for x in df['stars']]\n",
        "\n",
        "# Plot the sentiment distribution\n",
        "plt.figure()\n",
        "pd.value_counts(df['sentiment']).plot.bar(title=\"Sentiment distribution\")\n",
        "plt.xlabel(\"Sentiment\")\n",
        "plt.ylabel(\"Rows\")\n",
        "plt.show()"
      ],
      "execution_count": null,
      "outputs": [
        {
          "output_type": "display_data",
          "data": {
            "image/png": "[encoded data removed]",
            "text/plain": [
              "<Figure size 432x288 with 1 Axes>"
            ]
          },
          "metadata": {
            "tags": [],
            "needs_background": "light"
          }
        }
      ]
    },
    {
      "cell_type": "markdown",
      "metadata": {
        "id": "DvvDslPx1lVx"
      },
      "source": [
        "**Dataset balancing**\n",
        "\n",
        "Since most classification models work better when the examples are balanced and since our RAM can't handle 1 million examples, we take only the first 200.000 positive reviews and the first 200.000 negative reviews."
      ]
    },
    {
      "cell_type": "code",
      "metadata": {
        "id": "72l-0eqcWVsY"
      },
      "source": [
        "# Function to retrieve only a part of the positive and negative reviews\n",
        "def get_data(rows):\n",
        "    df_positive = df[df['sentiment'] == 1].head(rows)\n",
        "    df_negative = df[df['sentiment'] == -1].head(rows)\n",
        "    df_balanced = pd.concat([df_positive, df_negative])\n",
        "    return df_balanced\n",
        "\n",
        "df_balanced = get_data(200000)"
      ],
      "execution_count": null,
      "outputs": []
    },
    {
      "cell_type": "markdown",
      "metadata": {
        "id": "iOXFaQtK1uPT"
      },
      "source": [
        "**Tokenization**\n",
        "\n",
        "Each review is converted into a list of lowercase tokens and accent marks are removed."
      ]
    },
    {
      "cell_type": "code",
      "metadata": {
        "id": "ckheSTYTWWeA"
      },
      "source": [
        "# Tokenize each review\n",
        "df_balanced['tokenized_text'] = [simple_preprocess(line, deacc=True) for line in df_balanced['text']] "
      ],
      "execution_count": null,
      "outputs": []
    },
    {
      "cell_type": "markdown",
      "metadata": {
        "id": "9pVZl6FA155c"
      },
      "source": [
        "**Stemming**\n",
        "\n",
        "Every token is stemmed to its root, e.g. \"consultant\" and \"consulting\" are both stemmed to \"consult\"."
      ]
    },
    {
      "cell_type": "code",
      "metadata": {
        "id": "QBEhmXvUWe3k"
      },
      "source": [
        "# Stem each word in each review\n",
        "porter_stemmer = PorterStemmer()\n",
        "df_balanced['stemmed_tokens'] = [[porter_stemmer.stem(word) for word in tokens] for tokens in df_balanced['tokenized_text']]"
      ],
      "execution_count": null,
      "outputs": []
    },
    {
      "cell_type": "markdown",
      "metadata": {
        "id": "3fbysYCGUymF"
      },
      "source": [
        "#**Feature Extraction**\n",
        "\n",
        "Feature extraction is necessary because we need to transform each list of strings into a representation suitable for the learning algorithm. To be exact, each distinct word in the vocabulary has to correspond to a numerical feature. As already stated in the introduction, we focused on a dense representation (i.e. word-embeddings) instead of a sparse representation because of efficiency reasons.\n"
      ]
    },
    {
      "cell_type": "markdown",
      "metadata": {
        "id": "YRiN-q2IYkg0"
      },
      "source": [
        "**Word2Vec**\n",
        "\n",
        "Word2Vec is a set of models to generate word embeddings (mapping of words into vectors of real numbers) developed by Google in 2013 [3]. Embeddings generated by Word2vec allow **semantic analysis**, since similar words have similar embeddings.\n",
        "\n",
        "Word2Vec learning is based on Distributional Hypothesis:\n",
        "> \"A word is characterized by the company it keeps\"\n",
        "(J. R. Firth)\n",
        "\n",
        "Word2Vec include two models, both based on two-layer neural networks:\n",
        "*   **Skip-Gram** (SG), which predicts the context given a word as input\n",
        "*   **Continuous Bag-of-Words** (CBOW), which does the opposite\n",
        "\n",
        "Skip-gram works by training a neural network to solve the task of predicting context words given an input word (center word). The neural network computes probabilities related to how likely it is find each vocabulary word nearby the center word. To be exact, given a word pair as example, it tries to maximize the probability of them being in the same context, which is defined using the softmax function. Actually, the goal is just to learn the weights of the hidden layer, which are the “word vectors” we are looking for.\n",
        "\n",
        "According to the authors, Skip-Gram is a little bit slower but works better with uncommon words [4].\n"
      ]
    },
    {
      "cell_type": "markdown",
      "metadata": {
        "id": "zAwlSjBw46B3"
      },
      "source": [
        "**Word2Vec model training** \n",
        "\n",
        "We train the Word2Vec model with Skip-Gram on the stemmed tokens, generating for each distint term a 300 elements vector. This value has been chosen because lower values lead to a worse accuracy and higher values (up to 400) didn't improve accuracy and severely worsened efficiency. \n",
        "In general, the optimal vector size depends on the dataset size [5].\n",
        "\n",
        "Three model files are generated and stored for later use:\n",
        "\n",
        "*   word2vec_model\n",
        "*   word2vec_model.trainables.syn1neg\n",
        "*   word2vec_model.wv.vectors\n",
        "\n"
      ]
    },
    {
      "cell_type": "code",
      "metadata": {
        "id": "M-Jx9jd-Wmna",
        "outputId": "beb13697-8207-4900-a95c-721938717de0",
        "colab": {
          "base_uri": "https://localhost:8080/",
          "height": 89
        }
      },
      "source": [
        "word2vec_model_file = MODEL_FOLDER + 'word2vec_model'\n",
        "if os.path.isfile(word2vec_model_file) and os.access(word2vec_model_file, os.R_OK):\n",
        "    print(\"File exists and is readable\")\n",
        "else:\n",
        "  print(\"Either the file is missing or not readable, we create a new one\")\n",
        "  size = 300    #dim of word vectors\n",
        "  window = 5    #context window\n",
        "  min_count = 1 #do not ignore words with low frequency\n",
        "  workers = 3   #training threads\n",
        "  sg = 1        #Skip-gram model\n",
        "\n",
        "  start_time = time.time()\n",
        "  # turn the list of tokens into a ndarray\n",
        "  stemmed_tokens = pd.Series(df_balanced['stemmed_tokens']).values\n",
        "  # train the Word2Vec model\n",
        "  w2v_model = Word2Vec(stemmed_tokens, min_count = min_count, size = size, workers = workers, window = window, sg = sg)\n",
        "  print(\"Time taken to train word2vec model: \" + str(time.time() - start_time))\n",
        "  w2v_model.save(word2vec_model_file)\n",
        "\n",
        "# load the model \n",
        "w2v_model = Word2Vec.load(word2vec_model_file)"
      ],
      "execution_count": null,
      "outputs": [
        {
          "output_type": "stream",
          "text": [
            "File exists and is readable\n"
          ],
          "name": "stdout"
        },
        {
          "output_type": "stream",
          "text": [
            "/usr/local/lib/python3.6/dist-packages/smart_open/smart_open_lib.py:254: UserWarning: This function is deprecated, use smart_open.open instead. See the migration notes for details: https://github.com/RaRe-Technologies/smart_open/blob/master/README.rst#migrating-to-the-new-open-function\n",
            "  'See the migration notes for details: %s' % _MIGRATION_NOTES_URL\n"
          ],
          "name": "stderr"
        }
      ]
    },
    {
      "cell_type": "markdown",
      "metadata": {
        "id": "xMLCw-GX2Scv"
      },
      "source": [
        "**Training/testing dataset splitting**\n",
        "\n",
        "The dataset is randomly shuffled and splitted into 60% training dataset and 20% validation dataset to tune the model parameters and 20% testing dataset to perform hold-out testing, which is efficient and gives a good estimate of the model performance when the dataset is large enough. "
      ]
    },
    {
      "cell_type": "code",
      "metadata": {
        "id": "R3GUTi87Wilm"
      },
      "source": [
        "# Function to split the dataset into train and test datasets\n",
        "def split_dataset(df_balanced, test_size=0.2, shuffle_state=True):\n",
        "    X_train, X_test, Y_train, Y_test = train_test_split(df_balanced[['stars', 'stemmed_tokens']], \n",
        "                                                        df_balanced['sentiment'], \n",
        "                                                        shuffle=shuffle_state,\n",
        "                                                        test_size=test_size, \n",
        "                                                        random_state=15)\n",
        "    \n",
        "    #testing dataset ratio = 0.25 * (1-0.2) = 0.2\n",
        "    X_train, X_val, Y_train, Y_val = train_test_split(X_train, \n",
        "                                                      Y_train, \n",
        "                                                      shuffle=shuffle_state, \n",
        "                                                      test_size=0.25, \n",
        "                                                      random_state=1)\n",
        "\n",
        "    X_train = X_train.reset_index()\n",
        "    X_test = X_test.reset_index()\n",
        "    X_val = X_val.reset_index()\n",
        "    Y_train = Y_train.to_frame()\n",
        "    Y_train = Y_train.reset_index()\n",
        "    Y_test = Y_test.to_frame()\n",
        "    Y_test = Y_test.reset_index()\n",
        "    Y_val = Y_val.to_frame()\n",
        "    Y_val = Y_val.reset_index()\n",
        "    return X_train, X_test, Y_train, Y_test, X_val, Y_val\n",
        "\n",
        "# split the dataset\n",
        "X_train, X_test, Y_train, Y_test, X_val, Y_val = split_dataset(df_balanced)"
      ],
      "execution_count": null,
      "outputs": []
    },
    {
      "cell_type": "markdown",
      "metadata": {
        "id": "cGmwXrMJ8DYR"
      },
      "source": [
        "**Word-embeddings datasets generation**\n",
        "\n",
        "Each review is converted from a list of stemmed tokens to a vector of floating point numbers, which is obtained computing the mean of the word embeddings of each stemmed tokens. If non-valid values are encountered, the mean vector is a vector of all 0s, which doesn't affect the classification."
      ]
    },
    {
      "cell_type": "code",
      "metadata": {
        "id": "hNAfpBAV8uxf",
        "outputId": "521d611c-da95-4d63-faf4-350667e697b3",
        "colab": {
          "base_uri": "https://localhost:8080/",
          "height": 121
        }
      },
      "source": [
        "def get_word2vec_dataset(dataset, filename):\n",
        "  word2vec_filename = FOLDER + filename\n",
        "  if os.path.isfile(word2vec_filename) and os.access(word2vec_filename, os.R_OK):\n",
        "      print(\"File exists and is readable\")\n",
        "  else:\n",
        "    print(\"Either the file is missing or not readable, we create a new one\")\n",
        "    # Store the vectors for data in a file\n",
        "    with open(word2vec_filename, 'w+') as word2vec_file:\n",
        "        for index, row in dataset.iterrows():\n",
        "            #average over all the word2vec embeddings of the review\n",
        "            model_vector = (np.mean([w2v_model[token] for token in row['stemmed_tokens']], axis=0)).tolist()\n",
        "            if index == 0:\n",
        "                header = \",\".join(str(ele) for ele in range(300))\n",
        "                word2vec_file.write(header)\n",
        "                word2vec_file.write(\"\\n\")\n",
        "            # Check if the line exists else it is vector of zeros\n",
        "            if type(model_vector) is list:  \n",
        "                line1 = \",\".join( [str(vector_element) for vector_element in model_vector] )\n",
        "            else:\n",
        "                line1 = \",\".join([str(0) for i in range(300)])\n",
        "            word2vec_file.write(line1)\n",
        "            word2vec_file.write('\\n')\n",
        "\n",
        "  # Load from the filename\n",
        "  df = pd.read_csv(word2vec_filename)\n",
        "  print(\"The \" + filename + \" dataset is ready to be used\")\n",
        "  return df\n",
        "\n",
        "#retrieve the word2vec train dataset\n",
        "train_df = get_word2vec_dataset(X_train, 'train_review.csv')\n",
        "#retrieve the word2vec validation dataset\n",
        "val_df = get_word2vec_dataset(X_val, 'val_review.csv')\n",
        "#retrieve the word2vec test dataset\n",
        "test_df = get_word2vec_dataset(X_test, 'test_review.csv')"
      ],
      "execution_count": null,
      "outputs": [
        {
          "output_type": "stream",
          "text": [
            "File exists and is readable\n",
            "The train_review.csv dataset is ready to be used\n",
            "File exists and is readable\n",
            "The val_review.csv dataset is ready to be used\n",
            "File exists and is readable\n",
            "The test_review.csv dataset is ready to be used\n"
          ],
          "name": "stdout"
        }
      ]
    },
    {
      "cell_type": "markdown",
      "metadata": {
        "id": "8ZE1Ldsb8Fvh"
      },
      "source": [
        "#**Classifiers Training**\n",
        "\n",
        "We train some of the most used models in NLP tasks:\n",
        "\n",
        "\n",
        "*   Naive Bayes\n",
        "*   Random Forest\n",
        "*   Multi-Layer Perceptron\n",
        "*   Support Vector Classifier\n",
        "\n"
      ]
    },
    {
      "cell_type": "markdown",
      "metadata": {
        "id": "bV7Bdv1gyyVc"
      },
      "source": [
        "**Naive Bayes** \n",
        "\n",
        "The Naive Bayes classifier identify the class by computing the conditional probabilities that a certain input belongs to the different classes and selecting the class which gives the greatest probability."
      ]
    },
    {
      "cell_type": "code",
      "metadata": {
        "id": "S0CmHzuSiqC4",
        "outputId": "b9cc6634-1c7f-4ef9-a3f9-a63fca62d895",
        "colab": {
          "base_uri": "https://localhost:8080/",
          "height": 52
        }
      },
      "source": [
        "#Initialize the Naive Bayes model\n",
        "nb_classifier = GaussianNB()\n",
        "\n",
        "start_time = time.time()\n",
        "# Fit the model\n",
        "nb_classifier.fit(train_df, Y_train['sentiment'])\n",
        "print('Training time: ' + str(time.time() - start_time))\n",
        "dump(nb_classifier, MODEL_FOLDER + 'nb_classifier.joblib') "
      ],
      "execution_count": null,
      "outputs": [
        {
          "output_type": "stream",
          "text": [
            "Training time: 2.4838268756866455\n"
          ],
          "name": "stdout"
        },
        {
          "output_type": "execute_result",
          "data": {
            "text/plain": [
              "['/content/drive/My Drive/Models/nb_classifier.joblib']"
            ]
          },
          "metadata": {
            "tags": []
          },
          "execution_count": 12
        }
      ]
    },
    {
      "cell_type": "markdown",
      "metadata": {
        "id": "batKjAGlzo2Q"
      },
      "source": [
        "**Random Forest**\n",
        "\n",
        "The Random Forest classifier is an ensemble learning algorithm based on aggregating the votes of several different decision trees (generated by manipulating the training dataset using a tecnique called \"random sampling with replacement\"). We used the validation dataset to choose the number of trees. "
      ]
    },
    {
      "cell_type": "code",
      "metadata": {
        "id": "knoyRilNisLQ",
        "outputId": "f176c975-3b5b-4135-f493-347f2ec86db0",
        "colab": {
          "base_uri": "https://localhost:8080/",
          "height": 52
        }
      },
      "source": [
        "#Initialize the Random Forest model\n",
        "rf_classifier = RandomForestClassifier(n_estimators=150, random_state=15)\n",
        "\n",
        "start_time = time.time()\n",
        "# Fit the model\n",
        "rf_classifier.fit(train_df, Y_train['sentiment'])\n",
        "print('Training time: ' + str(time.time() - start_time))\n",
        "dump(rf_classifier, MODEL_FOLDER + 'rf_classifier.joblib') "
      ],
      "execution_count": null,
      "outputs": [
        {
          "output_type": "stream",
          "text": [
            "Training time: 1196.9854400157928\n"
          ],
          "name": "stdout"
        },
        {
          "output_type": "execute_result",
          "data": {
            "text/plain": [
              "['/content/drive/My Drive/Models/rf_classifier.joblib']"
            ]
          },
          "metadata": {
            "tags": []
          },
          "execution_count": 13
        }
      ]
    },
    {
      "cell_type": "markdown",
      "metadata": {
        "id": "LDOZl-ms2cID"
      },
      "source": [
        "**Multi-Layer Perceptron**\n",
        "\n",
        "The Multi-Layer Perceptron is a feed-forward neural network with one or more hidden layers. Here we use the stochastic gradient descent for weight updating with 2 hidden layers and 301 (number of features + bias) hidden units."
      ]
    },
    {
      "cell_type": "code",
      "metadata": {
        "id": "WSV3oxkiiwmd",
        "outputId": "94706dfc-712c-431c-f27d-766efccf70c8",
        "colab": {
          "base_uri": "https://localhost:8080/",
          "height": 107
        }
      },
      "source": [
        "#Initialize the MLP model\n",
        "mlp_classifier = MLPClassifier(solver='sgd', hidden_layer_sizes=(301,2), alpha=1e-4, random_state=15)\n",
        "\n",
        "start_time = time.time()\n",
        "# Fit the model\n",
        "mlp_classifier.fit(train_df, Y_train['sentiment'])\n",
        "print('Training time: ' + str(time.time() - start_time))\n",
        "dump(mlp_classifier, MODEL_FOLDER + 'mlp_classifier.joblib') "
      ],
      "execution_count": null,
      "outputs": [
        {
          "output_type": "stream",
          "text": [
            "Training time: 1851.3191394805908\n"
          ],
          "name": "stdout"
        },
        {
          "output_type": "stream",
          "text": [
            "/usr/local/lib/python3.6/dist-packages/sklearn/neural_network/_multilayer_perceptron.py:571: ConvergenceWarning: Stochastic Optimizer: Maximum iterations (200) reached and the optimization hasn't converged yet.\n",
            "  % self.max_iter, ConvergenceWarning)\n"
          ],
          "name": "stderr"
        },
        {
          "output_type": "execute_result",
          "data": {
            "text/plain": [
              "['/content/drive/My Drive/Models/mlp_classifier.joblib']"
            ]
          },
          "metadata": {
            "tags": []
          },
          "execution_count": 14
        }
      ]
    },
    {
      "cell_type": "markdown",
      "metadata": {
        "id": "g3X4ghzb4QtM"
      },
      "source": [
        "**Support Vector Classifier**\n",
        "\n",
        "The support vector classifier treats examples as points and computes the hyperplanes that best allow to separate data of different classes, and has the advantage that it avoids overfitting by allowing some misclassifications for outliers."
      ]
    },
    {
      "cell_type": "code",
      "metadata": {
        "id": "DB72KiM3X4rZ",
        "outputId": "19e2fbc4-a807-4006-c16a-f39d73a1b050",
        "colab": {
          "base_uri": "https://localhost:8080/",
          "height": 52
        }
      },
      "source": [
        "#Initialize the SVC model\n",
        "svc_classifier = LinearSVC(dual=False)\n",
        "\n",
        "start_time = time.time()\n",
        "# Fit the model\n",
        "svc_classifier.fit(train_df, Y_train['sentiment'])\n",
        "print('Training time: ' + str(time.time() - start_time))\n",
        "dump(svc_classifier, MODEL_FOLDER + 'svc_classifier.joblib') "
      ],
      "execution_count": null,
      "outputs": [
        {
          "output_type": "stream",
          "text": [
            "Training time: 21.15547227859497\n"
          ],
          "name": "stdout"
        },
        {
          "output_type": "execute_result",
          "data": {
            "text/plain": [
              "['/content/drive/My Drive/Models/svc_classifier.joblib']"
            ]
          },
          "metadata": {
            "tags": []
          },
          "execution_count": 15
        }
      ]
    },
    {
      "cell_type": "markdown",
      "metadata": {
        "id": "YV7g6DLj8Tz9"
      },
      "source": [
        "#**Classifiers Testing**\n",
        "\n",
        "The last step is testing all the classifiers and comparing their performance using different criterias: accuracy, precision, recall and number of errors. "
      ]
    },
    {
      "cell_type": "code",
      "metadata": {
        "id": "tjs8Exwbcrlp"
      },
      "source": [
        "accuracy_dict = {}\n",
        "precision_dict = {}\n",
        "recall_dict = {}\n",
        "f1_dict = {}\n",
        "fp_dict = {}\n",
        "fn_dict = {}"
      ],
      "execution_count": null,
      "outputs": []
    },
    {
      "cell_type": "code",
      "metadata": {
        "id": "qfWLeDQ0-kc7"
      },
      "source": [
        "def get_metrics(classifier, name, validation=False):\n",
        "\n",
        "  if validation == True:\n",
        "      prediction_df = val_df\n",
        "      Y_set = Y_val\n",
        "  else:\n",
        "      prediction_df = test_df\n",
        "      Y_set = Y_test\n",
        "\n",
        "  test_predictions = classifier.predict(prediction_df)\n",
        "\n",
        "  accuracy_dict[name] = metrics.accuracy_score(Y_set['sentiment'], test_predictions)\n",
        "  precision_dict[name] = metrics.precision_score(Y_set['sentiment'], test_predictions)\n",
        "  recall_dict[name] = metrics.recall_score(Y_set['sentiment'], test_predictions)\n",
        "  f1_dict[name] = metrics.f1_score(Y_set['sentiment'], test_predictions)\n",
        "\n",
        "  #get false positives and false negatives\n",
        "  tn, fp, fn, tp = metrics.confusion_matrix(Y_set['sentiment'], test_predictions).ravel()\n",
        "  fp_dict[name] = fp\n",
        "  fn_dict[name] = fn  "
      ],
      "execution_count": null,
      "outputs": []
    },
    {
      "cell_type": "code",
      "metadata": {
        "id": "EM_VqfiFI8iI"
      },
      "source": [
        "#Naive Bayes\n",
        "nb_classifier = load(MODEL_FOLDER + 'nb_classifier.joblib') \n",
        "get_metrics(nb_classifier, \"Naive Bayes\")"
      ],
      "execution_count": null,
      "outputs": []
    },
    {
      "cell_type": "code",
      "metadata": {
        "id": "RVD2_dgAI8Th"
      },
      "source": [
        "#Random Forest\n",
        "rf_classifier = load(MODEL_FOLDER + 'rf_classifier.joblib') \n",
        "get_metrics(rf_classifier, \"Random Forest\")"
      ],
      "execution_count": null,
      "outputs": []
    },
    {
      "cell_type": "code",
      "metadata": {
        "id": "cx_j5n5zI7pM"
      },
      "source": [
        "#Multi-Layer Perceptron\n",
        "mlp_classifier = load(MODEL_FOLDER + 'mlp_classifier.joblib') \n",
        "get_metrics(mlp_classifier, \"MLP\")"
      ],
      "execution_count": null,
      "outputs": []
    },
    {
      "cell_type": "code",
      "metadata": {
        "id": "ftpfSUW0I8Cw"
      },
      "source": [
        "#SVC\n",
        "svc_classifier = load(MODEL_FOLDER + 'svc_classifier.joblib') \n",
        "get_metrics(svc_classifier, \"SVC\")"
      ],
      "execution_count": null,
      "outputs": []
    },
    {
      "cell_type": "code",
      "metadata": {
        "id": "xzDKnLqnBp8r"
      },
      "source": [
        "#Function to bar plot a metric for each classifier\n",
        "def plot_dict(dict, metric_name):\n",
        "  label = dict.keys()\n",
        "  rng = range(len(label))\n",
        "  plt.xticks(rng, label)\n",
        "  p = plt.bar(rng, dict.values(), 0.4)\n",
        "  plt.ylabel(metric_name)\n",
        "  plt.xlabel('Classifier')\n",
        "\n",
        "  #print also the metric (up to 5 decimals) on top\n",
        "  for i, v in enumerate(dict.values()):\n",
        "    plt.text(rng[i] - 0.25, v + 0.01, str(f\"{v:.5f}\"))\n",
        "\n",
        "  plt.show()"
      ],
      "execution_count": null,
      "outputs": []
    },
    {
      "cell_type": "markdown",
      "metadata": {
        "id": "e-2vRCqPw1vb"
      },
      "source": [
        "**Accuracy**\n",
        "\n",
        "Accuracy is the number of correctly predicted instances out of all the instances.\n",
        "\n",
        "$Accuracy = \\dfrac{TP+TN}{TP+TN+FP+FN}$"
      ]
    },
    {
      "cell_type": "code",
      "metadata": {
        "id": "ZolxGmjFuV43",
        "outputId": "94da3862-b2f5-4add-f509-3dfd638d94c8",
        "colab": {
          "base_uri": "https://localhost:8080/",
          "height": 279
        }
      },
      "source": [
        "#plot the accuracy\n",
        "plot_dict(accuracy_dict, \"Accuracy\")"
      ],
      "execution_count": null,
      "outputs": [
        {
          "output_type": "display_data",
          "data": {
            "image/png": "[encoded data removed]",
            "text/plain": [
              "<Figure size 432x288 with 1 Axes>"
            ]
          },
          "metadata": {
            "tags": [],
            "needs_background": "light"
          }
        }
      ]
    },
    {
      "cell_type": "markdown",
      "metadata": {
        "id": "5KzW_b5jx0m-"
      },
      "source": [
        "**Precision**\n",
        "\n",
        "Precision is the fraction of correctly predicted positive instances out of all instances classified as positive.\n",
        "\n",
        "$Precision = \\dfrac{TP}{TP+FP}$"
      ]
    },
    {
      "cell_type": "code",
      "metadata": {
        "id": "wsyclAeXu4KA",
        "outputId": "9b872aa4-e893-4635-9ef3-15026a707430",
        "colab": {
          "base_uri": "https://localhost:8080/"
        }
      },
      "source": [
        "#plot the precision\n",
        "plot_dict(precision_dict, \"Precision\")"
      ],
      "execution_count": null,
      "outputs": [
        {
          "output_type": "display_data",
          "data": {
            "image/png": "[encoded data removed]",
            "text/plain": [
              "<Figure size 432x288 with 1 Axes>"
            ]
          },
          "metadata": {
            "tags": [],
            "needs_background": "light"
          }
        }
      ]
    },
    {
      "cell_type": "markdown",
      "metadata": {
        "id": "kQDlcERFx3Aj"
      },
      "source": [
        "**Recall**\n",
        "\n",
        "Recall is the fraction of correctly predicted positive instances out of all positive instances.\n",
        "\n",
        "$Recall = \\dfrac{TP}{TP+FN}$"
      ]
    },
    {
      "cell_type": "code",
      "metadata": {
        "id": "GgxFp904wUsl",
        "outputId": "8221e5ac-b149-49b4-f7a8-3e38f67acb8a",
        "colab": {
          "base_uri": "https://localhost:8080/"
        }
      },
      "source": [
        "#plot the recall\n",
        "plot_dict(recall_dict, \"Recall\")"
      ],
      "execution_count": null,
      "outputs": [
        {
          "output_type": "display_data",
          "data": {
            "image/png": "[encoded data removed]",
            "text/plain": [
              "<Figure size 432x288 with 1 Axes>"
            ]
          },
          "metadata": {
            "tags": [],
            "needs_background": "light"
          }
        }
      ]
    },
    {
      "cell_type": "markdown",
      "metadata": {
        "id": "Kxm6Sk-aeqLD"
      },
      "source": [
        "**F1 score**\n",
        "\n",
        "The F1 score is the harmonic mean of precision and recall.\n",
        "\n",
        "$F1 = 2 * \\dfrac{Precision * Recall}{Precision + Recall}$"
      ]
    },
    {
      "cell_type": "code",
      "metadata": {
        "id": "Bbluyrwzeduv",
        "outputId": "624c74a1-f75c-4780-d5fa-30a9a08c9bb2",
        "colab": {
          "base_uri": "https://localhost:8080/"
        }
      },
      "source": [
        "plot_dict(f1_dict, \"F1 Score\")"
      ],
      "execution_count": null,
      "outputs": [
        {
          "output_type": "display_data",
          "data": {
            "image/png": "[encoded data removed]",
            "text/plain": [
              "<Figure size 432x288 with 1 Axes>"
            ]
          },
          "metadata": {
            "tags": [],
            "needs_background": "light"
          }
        }
      ]
    },
    {
      "cell_type": "markdown",
      "metadata": {
        "id": "UhvTo-Gx3InK"
      },
      "source": [
        "**Errors**"
      ]
    },
    {
      "cell_type": "code",
      "metadata": {
        "id": "nF3Ig32l3NmA",
        "outputId": "7c9b4e78-3669-4e56-a882-acae6f6cd4b3",
        "colab": {
          "base_uri": "https://localhost:8080/"
        }
      },
      "source": [
        "#plot the errors using a stacked bar plot\n",
        "label = fp_dict.keys()\n",
        "rng = range(len(label))\n",
        "plt.xticks(rng, label)\n",
        "#false positives\n",
        "p1 = plt.bar(rng, fp_dict.values(), 0.5)\n",
        "#false negatives\n",
        "p2 = plt.bar(rng, fn_dict.values(), 0.5, bottom = list(fp_dict.values()))\n",
        "plt.ylabel('Errors')\n",
        "plt.xlabel('Classifier')\n",
        "plt.legend((p1[0], p2[0]), ('FP', 'FN'))\n",
        "plt.show()"
      ],
      "execution_count": null,
      "outputs": [
        {
          "output_type": "display_data",
          "data": {
            "image/png": "[encoded data removed]",
            "text/plain": [
              "<Figure size 432x288 with 1 Axes>"
            ]
          },
          "metadata": {
            "tags": [],
            "needs_background": "light"
          }
        }
      ]
    },
    {
      "cell_type": "markdown",
      "metadata": {
        "id": "1H1yDKbqJkwQ"
      },
      "source": [
        "#**Conclusion**\n",
        "\n",
        "The evaluation results are very satisfactory considering the memory constraints, as the accuracy reached using Word2Vec and MLP is 0.94. A similar result is also obtained using SVC, which can be trained faster. \n",
        "\n",
        "Further improvements can be made not only by increasing the training dataset size, but also during the pre-processing phase, removing reviews in foreign languages and correcting spelling mistakes. It would also be interesting to compare the performance of Word2Vec to other word embeddings algorithms like GloVe.\n",
        " "
      ]
    },
    {
      "cell_type": "markdown",
      "metadata": {
        "id": "1uQs0Wq4Jvzf"
      },
      "source": [
        "#**References**\n",
        "\n",
        "[1] Yelp Documentation. Yelp. Retrieved from https://www.yelp.com/dataset/documentation/main\n",
        "\n",
        "[2] Dipika Baad. 2020. *Sentiment Classification using Word Embeddings (Word2Vec)*. Retrieved from https://medium.com/swlh/sentiment-classification-using-word-embeddings-word2vec-aedf28fbb8ca\n",
        "\n",
        "[3] Tomas Mikolov, Kai Chen, Greg Corrado, Jeffrey Dean. 2013. *Efficient Estimation of Word Representations in Vector Space*. Proceedings of the International Conference on Learning Representations.\n",
        "\n",
        "[4] Word2Vec. Google Code. Retrieved from https://code.google.com/archive/p/word2vec/\n",
        "\n",
        "[5] Rizka Putri Nawangsari, Retno Kusumaningrum, Adi Wibowo. 2019. *Word2Vec for Indonesian Sentiment Analysis towards Hotel Reviews: An Evaluation Study*. Procedia Computer Science. "
      ]
    }
  ]
}