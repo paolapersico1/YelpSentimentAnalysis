{
  "nbformat": 4,
  "nbformat_minor": 0,
  "metadata": {
    "colab": {
      "name": "UserBusinessReview_Clusters.ipynb",
      "provenance": [],
      "collapsed_sections": [],
      "include_colab_link": true
    },
    "kernelspec": {
      "name": "python3",
      "display_name": "Python 3"
    }
  },
  "cells": [
    {
      "cell_type": "markdown",
      "metadata": {
        "id": "view-in-github",
        "colab_type": "text"
      },
      "source": [
        "<a href=\"https://colab.research.google.com/github/paolapersico1/YelpSentimentAnalysis/blob/master/UserBusinessReview_Clusters.ipynb\" target=\"_parent\"><img src=\"https://colab.research.google.com/assets/colab-badge.svg\" alt=\"Open In Colab\"/></a>"
      ]
    },
    {
      "cell_type": "markdown",
      "metadata": {
        "id": "eUYm4T_JGbT7"
      },
      "source": [
        "# Introduction\n",
        "\n",
        "In this project we try to exploit the **user**, **review** and **business** dataset in order to find groups (clusters) of users that have common preferences for each of the business clusters that we have obtained in the *YelpBusinessClusteringAnalysis* project.\n",
        "The idea consists in joining the mentioned datasets and, for each of the business' cluster previously determined, find out in which measure a user belongs to some of those. After that, through **K-means** algorithm, we determine a set of clusters that give us an overall idea about the preferences that a user shares with the others.\n",
        "\n",
        "Our data is therefore processed through the following phases:\n",
        "\n",
        "1.   Business, User, Review join\n",
        "2.   Pre-processing on the resulted data\n",
        "3.   Addition of columns with the review number and average stars for every business' cluster\n",
        "4.   K-means on the resulted dataframe\n",
        "\n",
        "Due to limited RAM capacity and the heavy pre-processing operations, we worked with a smaller amount of data and nonetheless we had to deal with long execution time.\n",
        "\n",
        "\n",
        "\n"
      ]
    },
    {
      "cell_type": "markdown",
      "metadata": {
        "id": "_57ywisOML_S"
      },
      "source": [
        "**Data load from Drive**"
      ]
    },
    {
      "cell_type": "code",
      "metadata": {
        "id": "KgbThMXPe1UX",
        "outputId": "4e847adb-77a5-4d5a-f44a-31554415b3c0",
        "colab": {
          "base_uri": "https://localhost:8080/",
          "height": 34
        }
      },
      "source": [
        "from google.colab import drive\n",
        "drive.mount(\"/content/drive\", force_remount = True)\n",
        "FOLDER = \"/content/drive/My Drive/Datasets\"\n",
        "MODEL_FOLDER = \"/content/drive/My Drive/Models/\""
      ],
      "execution_count": null,
      "outputs": [
        {
          "output_type": "stream",
          "text": [
            "Mounted at /content/drive\n"
          ],
          "name": "stdout"
        }
      ]
    },
    {
      "cell_type": "markdown",
      "metadata": {
        "id": "Tjwu1N4cMRMM"
      },
      "source": [
        "**Libraries import**"
      ]
    },
    {
      "cell_type": "code",
      "metadata": {
        "id": "LLRnJCKhWLEa"
      },
      "source": [
        "import pandas as pd\n",
        "import numpy as np\n",
        "import os\n",
        "import time\n",
        "import math \n",
        "import matplotlib.pyplot as plt\n",
        "from sklearn.cluster import KMeans"
      ],
      "execution_count": null,
      "outputs": []
    },
    {
      "cell_type": "markdown",
      "metadata": {
        "id": "TfFNkBuaMUn0"
      },
      "source": [
        "**Pickle import**"
      ]
    },
    {
      "cell_type": "code",
      "metadata": {
        "id": "P6C55QGw4io1"
      },
      "source": [
        "df_business_cluster = pd.read_pickle(FOLDER + \"/business/BusinessesCluster\")\n",
        "df_business_cluster.set_index('business_id', inplace=True)\n",
        "df_business_cluster = df_business_cluster.sort_index()\n",
        "#df_users = pd.read_pickle(FOLDER + \"/users/UsersCluster\")"
      ],
      "execution_count": null,
      "outputs": []
    },
    {
      "cell_type": "markdown",
      "metadata": {
        "id": "o3wFy63gNSel"
      },
      "source": [
        "# **Data pre-processing**"
      ]
    },
    {
      "cell_type": "markdown",
      "metadata": {
        "id": "kfHwnpK6MYjB"
      },
      "source": [
        "**Review dataset import**\n",
        "\n",
        "As for the other projects, we work with smaller chunks of data due to Colab' RAM capacity limits."
      ]
    },
    {
      "cell_type": "code",
      "metadata": {
        "id": "vu9gOYvH8f03",
        "outputId": "0cfc85a9-7b73-47d0-d6d2-772756f8069f",
        "colab": {
          "base_uri": "https://localhost:8080/",
          "height": 68
        }
      },
      "source": [
        "def load_yelp_data(output_filename, limit = False, chunksize = 1000000):\n",
        "  review = pd.read_json(FOLDER + \"/reviews/yelp_academic_dataset_review.json\", lines=True,\n",
        "                        dtype={'review_id':str,'user_id':str,\n",
        "                              'business_id':str,'stars':int,\n",
        "                              'useful':int,'funny':int,'cool':int,\n",
        "                              'text':str,'date':str},\n",
        "                        chunksize=chunksize)\n",
        "  \n",
        "  # There are multiple chunks to be read\n",
        "  chunk_list = []\n",
        "  for chunk_review in review:\n",
        "    # Drop columns that aren't needed\n",
        "    chunk_review = chunk_review.drop(['useful', 'funny', 'cool', 'text'], axis=1)\n",
        "    # Drop rows with missing values\n",
        "    chunk_review = chunk_review.dropna()\n",
        "    # Add chunk\n",
        "    chunk_list.append(chunk_review)\n",
        "    if limit and len(chunk_list) == limit:\n",
        "      break\n",
        "  # Concatenate the trimmed chunks to one dataframe\n",
        "  df = pd.concat(chunk_list, ignore_index=True, join='outer', axis=0)\n",
        "  # convert to csv\n",
        "  df.to_csv(output_filename, index=False)\n",
        "\n",
        "# load the csv\n",
        "yelp_reviews_csv = FOLDER + \"/reviews/yelp_reviews_for_cluster2.csv\"\n",
        "if os.path.isfile(yelp_reviews_csv) and os.access(yelp_reviews_csv, os.R_OK):\n",
        "    print(\"File exists and is readable\")\n",
        "else:\n",
        "  print(\"Either the file is missing or not readable, we create a new one\")\n",
        "  load_yelp_data(yelp_reviews_csv)\n",
        "\n",
        "# read the csv\n",
        "df_reviews = pd.read_csv(yelp_reviews_csv)\n",
        "\n",
        "print(\"The dataset is ready to be used\")\n",
        "print(len(df_reviews),\" rows loaded\")"
      ],
      "execution_count": null,
      "outputs": [
        {
          "output_type": "stream",
          "text": [
            "File exists and is readable\n",
            "The dataset is ready to be used\n",
            "8021122  rows loaded\n"
          ],
          "name": "stdout"
        }
      ]
    },
    {
      "cell_type": "markdown",
      "metadata": {
        "id": "0nZkf66mjolh"
      },
      "source": [
        "**Users dataset import**"
      ]
    },
    {
      "cell_type": "code",
      "metadata": {
        "id": "HbU-WpHMnVTp",
        "outputId": "86caa695-b277-4f0a-dca9-f7ff29e5b00b",
        "colab": {
          "base_uri": "https://localhost:8080/",
          "height": 68
        }
      },
      "source": [
        "def load_users_yelp_data(output_filename, limit = False, chunksize = 1000000):\n",
        "  users = pd.read_json(FOLDER + \"/yelp_academic_dataset_user.json\", lines=True,\n",
        "                        dtype={'user_id':str, 'name':str,'review_count':int,\n",
        "                               'yelping_since':str, 'friends':str, 'useful':int,\n",
        "                               'funny':int, 'cool':int, 'fans':int,\n",
        "                               'elite':int, 'average_stars':int, 'compliment_hot':int,\n",
        "                               'compliment_more':int, 'compliment_profile':int, 'compliment_cute':int,\n",
        "                               'compliment_list':int, 'compliment_note':int, 'compliment_plain':int,\n",
        "                               'compliment_cool':int, 'compliment_funny':int, 'compliment_writer':int,\n",
        "                               'compliment_photo':int},\n",
        "                        chunksize=chunksize)\n",
        "  \n",
        "  # There are multiple chunks to be read\n",
        "  chunk_list = []\n",
        "  for chunk_users in users:\n",
        "    # Drop columns that aren't needed\n",
        "    chunk_users = chunk_users.drop(['yelping_since'], axis=1)\n",
        "    # Drop rows with missing values\n",
        "    chunk_users = chunk_users.dropna()\n",
        "    # Add chunk\n",
        "    chunk_list.append(chunk_users)\n",
        "    if limit and len(chunk_list) == limit:\n",
        "      break\n",
        "  # Concatenate the trimmed chunks to one dataframe\n",
        "  df = pd.concat(chunk_list, ignore_index=True, join='outer', axis=0)\n",
        "  # convert to csv\n",
        "  df.to_csv(output_filename, index=False)\n",
        "\n",
        "# load the csv\n",
        "yelp_users_csv = FOLDER + \"/users/yelp_users.csv\"\n",
        "if os.path.isfile(yelp_users_csv) and os.access(yelp_users_csv, os.R_OK):\n",
        "    print(\"File exists and is readable\")\n",
        "else:\n",
        "  print(\"Either the file is missing or not readable, we create a new one\")\n",
        "  load_users_yelp_data(yelp_users_csv, limit = 1)\n",
        "\n",
        "# dataframe from csv\n",
        "df_users = pd.read_csv(yelp_users_csv)\n",
        "\n",
        "print(\"The dataset is ready to be used\")\n",
        "print(len(df_users),\"rows loaded\")"
      ],
      "execution_count": null,
      "outputs": [
        {
          "output_type": "stream",
          "text": [
            "File exists and is readable\n",
            "The dataset is ready to be used\n",
            "1000000  rows loaded\n"
          ],
          "name": "stdout"
        }
      ]
    },
    {
      "cell_type": "markdown",
      "metadata": {
        "id": "yxedhr4Sb5YT"
      },
      "source": [
        "**Users dataframe pre-process**\n",
        "\n",
        "According to the purpose of our project we don't really care about the actual friends id and elite types that a user refers to, but rather to the numerical amount of each of these attributes. So here we replace those fields with their length."
      ]
    },
    {
      "cell_type": "code",
      "metadata": {
        "id": "RDYQ5s7R9pjz"
      },
      "source": [
        "# Friends length\n",
        "df_users['friends_count'] = [len(x[1:-1].split(',')) for x in df_users['friends']]\n",
        "\n",
        "# Elite length\n",
        "df_users['elite'] = df_users['elite'].map(str)\n",
        "df_users['elite_count'] = [len(x[1:-1].split(',')) if x != 'nan' else 0 for x in df_users['elite']]\n",
        "\n",
        "# Drop elite and friends fields\n",
        "df_users = df_users.drop(['name', 'friends', 'elite'], axis=1)"
      ],
      "execution_count": null,
      "outputs": []
    },
    {
      "cell_type": "markdown",
      "metadata": {
        "id": "ltnhm1WyNglR"
      },
      "source": [
        "**Indexing**\n",
        "\n",
        "Review dataframe index setting (on user_id) and sorting for a correct and efficient iteration purpose."
      ]
    },
    {
      "cell_type": "code",
      "metadata": {
        "id": "9t2ey4XDSjaj"
      },
      "source": [
        "df_reviews = df_reviews.set_index('user_id').sort_index()"
      ],
      "execution_count": null,
      "outputs": []
    },
    {
      "cell_type": "markdown",
      "metadata": {
        "id": "WyCSPsOp65cF"
      },
      "source": [
        "**Create new dataframe**\n",
        "\n",
        "This section is the core of the project.\n",
        "\n",
        "In addition to the other numerical values already related to each user, we extract through review dataset the amount of reviews and their average starts that a user have for each business cluster.\n",
        "These data is then merged and define the resulted dataframe that is gonna go through the K-means algorithm.\n",
        "\n",
        "Considering we had to deal with dataframe joins, the pre-processing computation resulted quite heavy and therefore very time-consuming. But this didn't affect the size of the final dataframe, which, despite the big (but fixed) amount of columns, resulted in the line with the previous ones."
      ]
    },
    {
      "cell_type": "code",
      "metadata": {
        "id": "qNyacPJ76-_w",
        "outputId": "c9e1b53b-4e94-46f5-866d-852c1f355ece",
        "colab": {
          "base_uri": "https://localhost:8080/",
          "height": 232
        }
      },
      "source": [
        "start_time = time.time()\n",
        "\n",
        "data = []\n",
        "# for each user\n",
        "for i, user in df_users.iterrows():\n",
        "    reviews_for_cluster = np.zeros(90, dtype='uint32')\n",
        "    ratings_for_cluster = np.zeros(90)\n",
        "    # take the reviews of that user\n",
        "    if user['user_id'] in df_reviews.index:\n",
        "        reviews = df_reviews.loc[[user['user_id']]]\n",
        "        # for each review\n",
        "        for index, review in reviews.iterrows():\n",
        "            # look up the cluster of the business of that review\n",
        "            cluster = df_business_cluster.loc[review['business_id'], 'cat_label']\n",
        "            # increment the number of reviews for that cluster\n",
        "            reviews_for_cluster[cluster] += 1\n",
        "            # increment the number of stars for that cluster\n",
        "            ratings_for_cluster[cluster] += review['stars']\n",
        "\n",
        "        # get the average stars for each cluster    \n",
        "        for j in range(0,90):\n",
        "            if (reviews_for_cluster[j] != 0):\n",
        "                ratings_for_cluster[j] = ratings_for_cluster[j]/float(reviews_for_cluster[j])\n",
        "            else:\n",
        "                ratings_for_cluster[j] = None\n",
        "\n",
        "        # replace null values with the column average\n",
        "        ratings_mean = np.nanmean(ratings_for_cluster, axis=0)\n",
        "        for j in range(0,90):\n",
        "            if math.isnan(ratings_for_cluster[j]):\n",
        "                ratings_for_cluster[j] = ratings_mean\n",
        "\n",
        "    \n",
        "    # create list with user info and number of reviews for each business cluster\n",
        "    data.append(user.values.tolist() + reviews_for_cluster.tolist() + ratings_for_cluster.tolist())\n",
        "\n",
        "   # iterative column names definition\n",
        "column_names = (df_users.columns.tolist() + \n",
        "                [\"Reviews c\"+ str(cluster) for cluster in range(0,90)] + \n",
        "                [\"Stars c\"+ str(cluster) for cluster in range(0,90)])\n",
        "\n",
        "final_df = pd.DataFrame(data, columns=column_names)\n",
        "print('Time to create dataframe: ' + str(time.time() - start_time))\n",
        "print(final_df.head(5))"
      ],
      "execution_count": null,
      "outputs": [
        {
          "output_type": "error",
          "ename": "KeyboardInterrupt",
          "evalue": "ignored",
          "traceback": [
            "\u001b[0;31m---------------------------------------------------------------------------\u001b[0m",
            "\u001b[0;31mKeyboardInterrupt\u001b[0m                         Traceback (most recent call last)",
            "\u001b[0;32m<ipython-input-9-e3ddf1c3d10b>\u001b[0m in \u001b[0;36m<module>\u001b[0;34m()\u001b[0m\n\u001b[1;32m     33\u001b[0m \u001b[0;34m\u001b[0m\u001b[0m\n\u001b[1;32m     34\u001b[0m     \u001b[0;31m# create list with user info and number of reviews for each business cluster\u001b[0m\u001b[0;34m\u001b[0m\u001b[0;34m\u001b[0m\u001b[0;34m\u001b[0m\u001b[0m\n\u001b[0;32m---> 35\u001b[0;31m     \u001b[0mdata\u001b[0m\u001b[0;34m.\u001b[0m\u001b[0mappend\u001b[0m\u001b[0;34m(\u001b[0m\u001b[0muser\u001b[0m\u001b[0;34m.\u001b[0m\u001b[0mvalues\u001b[0m\u001b[0;34m.\u001b[0m\u001b[0mtolist\u001b[0m\u001b[0;34m(\u001b[0m\u001b[0;34m)\u001b[0m \u001b[0;34m+\u001b[0m \u001b[0mreviews_for_cluster\u001b[0m\u001b[0;34m.\u001b[0m\u001b[0mtolist\u001b[0m\u001b[0;34m(\u001b[0m\u001b[0;34m)\u001b[0m \u001b[0;34m+\u001b[0m \u001b[0mratings_for_cluster\u001b[0m\u001b[0;34m.\u001b[0m\u001b[0mtolist\u001b[0m\u001b[0;34m(\u001b[0m\u001b[0;34m)\u001b[0m\u001b[0;34m)\u001b[0m\u001b[0;34m\u001b[0m\u001b[0;34m\u001b[0m\u001b[0m\n\u001b[0m\u001b[1;32m     36\u001b[0m \u001b[0;34m\u001b[0m\u001b[0m\n\u001b[1;32m     37\u001b[0m    \u001b[0;31m# iterative column names definition\u001b[0m\u001b[0;34m\u001b[0m\u001b[0;34m\u001b[0m\u001b[0;34m\u001b[0m\u001b[0m\n",
            "\u001b[0;31mKeyboardInterrupt\u001b[0m: "
          ]
        }
      ]
    },
    {
      "cell_type": "code",
      "metadata": {
        "id": "mdJxxfH9ZHE7",
        "outputId": "15277332-4182-4b91-f543-d7da46562bcf",
        "colab": {
          "base_uri": "https://localhost:8080/",
          "height": 164
        }
      },
      "source": [
        "final_df.to_pickle('/content/drive/My Drive/Datasets/ubr_clusters.pkl')"
      ],
      "execution_count": null,
      "outputs": [
        {
          "output_type": "error",
          "ename": "NameError",
          "evalue": "ignored",
          "traceback": [
            "\u001b[0;31m---------------------------------------------------------------------------\u001b[0m",
            "\u001b[0;31mNameError\u001b[0m                                 Traceback (most recent call last)",
            "\u001b[0;32m<ipython-input-7-2ec3f90a2bf1>\u001b[0m in \u001b[0;36m<module>\u001b[0;34m()\u001b[0m\n\u001b[0;32m----> 1\u001b[0;31m \u001b[0mfinal_df\u001b[0m\u001b[0;34m.\u001b[0m\u001b[0mto_pickle\u001b[0m\u001b[0;34m(\u001b[0m\u001b[0;34m'/content/drive/My Drive/Datasets/ubr_clusters.pkl'\u001b[0m\u001b[0;34m)\u001b[0m\u001b[0;34m\u001b[0m\u001b[0;34m\u001b[0m\u001b[0m\n\u001b[0m",
            "\u001b[0;31mNameError\u001b[0m: name 'final_df' is not defined"
          ]
        }
      ]
    },
    {
      "cell_type": "markdown",
      "metadata": {
        "id": "GxMCGmqb5B2c"
      },
      "source": [
        "# **K-means**\n",
        "\n",
        "As for the other projects, we relied on K-means clustering algorithm due to its meaningfullness and low input dependencies (only the number of clusters). "
      ]
    },
    {
      "cell_type": "markdown",
      "metadata": {
        "id": "it_lNV7nToE0"
      },
      "source": [
        "**Elbow evaluation**\n",
        "\n",
        "We definited iteratively the range of the potential K that could make the job, going from high ones (10, 250, 25), down to smaller ones (10, 100, 10), following the visual rappresentation.\n",
        "\n",
        "Doing so we were able to save some computation resources and still obtain the best K (elbow), which resulted to be **40**."
      ]
    },
    {
      "cell_type": "code",
      "metadata": {
        "id": "CgH25Lsjb9w8",
        "outputId": "796f5262-d864-444b-9d48-329f2cdd3101",
        "colab": {
          "base_uri": "https://localhost:8080/",
          "height": 448
        }
      },
      "source": [
        "final_df = pd.read_pickle('/content/drive/My Drive/Datasets/ubr_clusters.pkl')\n",
        "df = final_df.drop('user_id', axis=1)\n",
        "#for col in df.columns: \n",
        "#    print(col) \n",
        "#print(df.head())\n",
        "Sum_of_squared_distances = []\n",
        "K = range(10,100,10)\n",
        "\n",
        "for k in K:\n",
        "    print(\"now is executing with k = \" + str(k))\n",
        "    km = KMeans(n_clusters=k, init='k-means++', max_iter=500, n_init=1)\n",
        "    km = km.fit(df)\n",
        "    Sum_of_squared_distances.append(km.inertia_)\n",
        "\n",
        "\n",
        "plt.plot(K, Sum_of_squared_distances, 'bx-')\n",
        "plt.xlabel('k')\n",
        "plt.ylabel('Sum of squared distances')\n",
        "plt.title('Elbow Method For Optimal k')\n",
        "plt.show()"
      ],
      "execution_count": null,
      "outputs": [
        {
          "output_type": "stream",
          "text": [
            "now is executing with k = 10\n",
            "now is executing with k = 20\n",
            "now is executing with k = 30\n",
            "now is executing with k = 40\n",
            "now is executing with k = 50\n",
            "now is executing with k = 60\n",
            "now is executing with k = 70\n",
            "now is executing with k = 80\n",
            "now is executing with k = 90\n"
          ],
          "name": "stdout"
        },
        {
          "output_type": "display_data",
          "data": {
            "image/png": "[encoded data removed]",
            "text/plain": [
              "<Figure size 432x288 with 1 Axes>"
            ]
          },
          "metadata": {
            "tags": [],
            "needs_background": "light"
          }
        }
      ]
    },
    {
      "cell_type": "code",
      "metadata": {
        "id": "OMdxmMfMarIW",
        "outputId": "9317fe22-584e-4c13-e09a-ae8ede50b94d",
        "colab": {
          "base_uri": "https://localhost:8080/",
          "height": 34
        }
      },
      "source": [
        "print(type(final_df['Reviews c0'][0]))"
      ],
      "execution_count": null,
      "outputs": [
        {
          "output_type": "stream",
          "text": [
            "<class 'numpy.int64'>\n"
          ],
          "name": "stdout"
        }
      ]
    },
    {
      "cell_type": "code",
      "metadata": {
        "id": "On7Dh6MNYsHY"
      },
      "source": [
        "flag = np.uint64(0)\n",
        "for i in range(0,90):\n",
        "    #print('Reviews c'+str(i))\n",
        "    for j in range(0, 1):\n",
        "        if final_df['Stars c'+str(i)][j] != flag:\n",
        "            print(final_df['Stars c'+str(i)][j])"
      ],
      "execution_count": null,
      "outputs": []
    },
    {
      "cell_type": "code",
      "metadata": {
        "id": "xSUHOk3NfQrL"
      },
      "source": [
        "final_df.to_pickle(FOLDER+\"/users/CompleteUsersDF\")"
      ],
      "execution_count": null,
      "outputs": []
    },
    {
      "cell_type": "markdown",
      "metadata": {
        "id": "THWpJRR8pU8T"
      },
      "source": [
        "Finally, this analysis is an example of how to show the distribution of the users involved in the business categories. As involved we inted users which has left at least one reviwes on a certaint business that is part of a given category.\n"
      ]
    },
    {
      "cell_type": "code",
      "metadata": {
        "id": "man_dZruu5C7"
      },
      "source": [
        "final_df = pd.read_pickle('/content/drive/My Drive/Datasets/ubr_clusters.pkl');\n",
        "df = final_df.drop('user_id', axis=1)\n",
        "\n"
      ],
      "execution_count": null,
      "outputs": []
    },
    {
      "cell_type": "code",
      "metadata": {
        "id": "Elu4b1iDWMGg"
      },
      "source": [
        ""
      ],
      "execution_count": null,
      "outputs": []
    },
    {
      "cell_type": "code",
      "metadata": {
        "id": "Jl8kaCAcsQYO",
        "outputId": "d0aa49c4-25b8-4330-faca-cae4796160b8",
        "colab": {
          "base_uri": "https://localhost:8080/",
          "height": 1000
        }
      },
      "source": [
        "flag = np.uint64(0)\n",
        "stop = 0\n",
        "\n",
        "#create a new dictionary\n",
        "mDictionary = {}\n",
        "for i in range(90):\n",
        "    mDictionary[str(i)]= 0;\n",
        "print(\"there are \",len(df.values),\" values on dataset\");\n",
        "#14 are the number of colums in the dataframe before Reviews columns start\n",
        "#position number 15 corresponds to head of df table 'Revies c0'\n",
        "i =0;\n",
        "for cluster in range(0,89):\n",
        "    print('cluster no. >',cluster, ' ... ');\n",
        "    userWithZeroComments = 0;\n",
        "    for row in df.values: #row of the table corresponds to user\n",
        "        numberOfReviews = row[15+cluster];\n",
        "        if numberOfReviews > 0:\n",
        "            counter = mDictionary[str(cluster)];  \n",
        "            mDictionary[str(cluster)] = counter + 1;    \n",
        "        else :\n",
        "            userWithZeroComments = userWithZeroComments+1 ;\n",
        "    print('...completed');\n",
        "    \n",
        "    \n",
        "\n"
      ],
      "execution_count": null,
      "outputs": [
        {
          "output_type": "stream",
          "text": [
            "there are  1000000  values on dataset\n",
            "cluster no. > 0  ... \n",
            "...completed\n",
            "...number of user with 0 comments on cluster0 is 872586\n",
            "cluster no. > 1  ... \n",
            "...completed\n",
            "...number of user with 0 comments on cluster1 is 917286\n",
            "cluster no. > 2  ... \n",
            "...completed\n",
            "...number of user with 0 comments on cluster2 is 0\n",
            "cluster no. > 3  ... \n",
            "...completed\n",
            "...number of user with 0 comments on cluster3 is 941998\n",
            "cluster no. > 4  ... \n",
            "...completed\n",
            "...number of user with 0 comments on cluster4 is 985661\n",
            "cluster no. > 5  ... \n",
            "...completed\n",
            "...number of user with 0 comments on cluster5 is 988315\n",
            "cluster no. > 6  ... \n",
            "...completed\n",
            "...number of user with 0 comments on cluster6 is 933697\n",
            "cluster no. > 7  ... \n",
            "...completed\n",
            "...number of user with 0 comments on cluster7 is 895214\n",
            "cluster no. > 8  ... \n",
            "...completed\n",
            "...number of user with 0 comments on cluster8 is 965453\n",
            "cluster no. > 9  ... \n",
            "...completed\n",
            "...number of user with 0 comments on cluster9 is 988396\n",
            "cluster no. > 10  ... \n",
            "...completed\n",
            "...number of user with 0 comments on cluster10 is 977020\n",
            "cluster no. > 11  ... \n",
            "...completed\n",
            "...number of user with 0 comments on cluster11 is 954873\n",
            "cluster no. > 12  ... \n",
            "...completed\n",
            "...number of user with 0 comments on cluster12 is 991082\n",
            "cluster no. > 13  ... \n",
            "...completed\n",
            "...number of user with 0 comments on cluster13 is 819032\n",
            "cluster no. > 14  ... \n",
            "...completed\n",
            "...number of user with 0 comments on cluster14 is 917709\n",
            "cluster no. > 15  ... \n",
            "...completed\n",
            "...number of user with 0 comments on cluster15 is 933264\n",
            "cluster no. > 16  ... \n",
            "...completed\n",
            "...number of user with 0 comments on cluster16 is 919102\n",
            "cluster no. > 17  ... \n",
            "...completed\n",
            "...number of user with 0 comments on cluster17 is 994905\n",
            "cluster no. > 18  ... \n",
            "...completed\n",
            "...number of user with 0 comments on cluster18 is 956080\n",
            "cluster no. > 19  ... \n",
            "...completed\n",
            "...number of user with 0 comments on cluster19 is 963310\n",
            "cluster no. > 20  ... \n",
            "...completed\n",
            "...number of user with 0 comments on cluster20 is 761812\n",
            "cluster no. > 21  ... \n",
            "...completed\n",
            "...number of user with 0 comments on cluster21 is 970667\n",
            "cluster no. > 22  ... \n",
            "...completed\n",
            "...number of user with 0 comments on cluster22 is 906425\n",
            "cluster no. > 23  ... \n",
            "...completed\n",
            "...number of user with 0 comments on cluster23 is 943372\n",
            "cluster no. > 24  ... \n",
            "...completed\n",
            "...number of user with 0 comments on cluster24 is 959107\n",
            "cluster no. > 25  ... \n",
            "...completed\n",
            "...number of user with 0 comments on cluster25 is 947897\n",
            "cluster no. > 26  ... \n",
            "...completed\n",
            "...number of user with 0 comments on cluster26 is 945516\n",
            "cluster no. > 27  ... \n",
            "...completed\n",
            "...number of user with 0 comments on cluster27 is 994417\n",
            "cluster no. > 28  ... \n",
            "...completed\n",
            "...number of user with 0 comments on cluster28 is 959710\n",
            "cluster no. > 29  ... \n",
            "...completed\n",
            "...number of user with 0 comments on cluster29 is 985298\n",
            "cluster no. > 30  ... \n",
            "...completed\n",
            "...number of user with 0 comments on cluster30 is 889023\n",
            "cluster no. > 31  ... \n",
            "...completed\n",
            "...number of user with 0 comments on cluster31 is 925200\n",
            "cluster no. > 32  ... \n",
            "...completed\n",
            "...number of user with 0 comments on cluster32 is 951278\n",
            "cluster no. > 33  ... \n",
            "...completed\n",
            "...number of user with 0 comments on cluster33 is 972936\n",
            "cluster no. > 34  ... \n",
            "...completed\n",
            "...number of user with 0 comments on cluster34 is 963828\n",
            "cluster no. > 35  ... \n",
            "...completed\n",
            "...number of user with 0 comments on cluster35 is 955141\n",
            "cluster no. > 36  ... \n",
            "...completed\n",
            "...number of user with 0 comments on cluster36 is 987370\n",
            "cluster no. > 37  ... \n",
            "...completed\n",
            "...number of user with 0 comments on cluster37 is 958882\n",
            "cluster no. > 38  ... \n",
            "...completed\n",
            "...number of user with 0 comments on cluster38 is 982524\n",
            "cluster no. > 39  ... \n",
            "...completed\n",
            "...number of user with 0 comments on cluster39 is 998512\n",
            "cluster no. > 40  ... \n",
            "...completed\n",
            "...number of user with 0 comments on cluster40 is 859428\n",
            "cluster no. > 41  ... \n",
            "...completed\n",
            "...number of user with 0 comments on cluster41 is 932535\n",
            "cluster no. > 42  ... \n",
            "...completed\n",
            "...number of user with 0 comments on cluster42 is 896145\n",
            "cluster no. > 43  ... \n",
            "...completed\n",
            "...number of user with 0 comments on cluster43 is 982693\n",
            "cluster no. > 44  ... \n",
            "...completed\n",
            "...number of user with 0 comments on cluster44 is 986517\n",
            "cluster no. > 45  ... \n",
            "...completed\n",
            "...number of user with 0 comments on cluster45 is 953495\n",
            "cluster no. > 46  ... \n",
            "...completed\n",
            "...number of user with 0 comments on cluster46 is 932484\n",
            "cluster no. > 47  ... \n",
            "...completed\n",
            "...number of user with 0 comments on cluster47 is 949354\n",
            "cluster no. > 48  ... \n",
            "...completed\n",
            "...number of user with 0 comments on cluster48 is 989249\n",
            "cluster no. > 49  ... \n",
            "...completed\n",
            "...number of user with 0 comments on cluster49 is 972857\n",
            "cluster no. > 50  ... \n",
            "...completed\n",
            "...number of user with 0 comments on cluster50 is 930457\n",
            "cluster no. > 51  ... \n",
            "...completed\n",
            "...number of user with 0 comments on cluster51 is 952342\n",
            "cluster no. > 52  ... \n",
            "...completed\n",
            "...number of user with 0 comments on cluster52 is 959596\n",
            "cluster no. > 53  ... \n",
            "...completed\n",
            "...number of user with 0 comments on cluster53 is 973494\n",
            "cluster no. > 54  ... \n",
            "...completed\n",
            "...number of user with 0 comments on cluster54 is 982136\n",
            "cluster no. > 55  ... \n",
            "...completed\n",
            "...number of user with 0 comments on cluster55 is 980180\n",
            "cluster no. > 56  ... \n",
            "...completed\n",
            "...number of user with 0 comments on cluster56 is 964538\n",
            "cluster no. > 57  ... \n",
            "...completed\n",
            "...number of user with 0 comments on cluster57 is 980052\n",
            "cluster no. > 58  ... \n",
            "...completed\n",
            "...number of user with 0 comments on cluster58 is 971188\n",
            "cluster no. > 59  ... \n",
            "...completed\n",
            "...number of user with 0 comments on cluster59 is 999690\n",
            "cluster no. > 60  ... \n",
            "...completed\n",
            "...number of user with 0 comments on cluster60 is 964780\n",
            "cluster no. > 61  ... \n",
            "...completed\n",
            "...number of user with 0 comments on cluster61 is 969359\n",
            "cluster no. > 62  ... \n",
            "...completed\n",
            "...number of user with 0 comments on cluster62 is 870106\n",
            "cluster no. > 63  ... \n",
            "...completed\n",
            "...number of user with 0 comments on cluster63 is 997221\n",
            "cluster no. > 64  ... \n",
            "...completed\n",
            "...number of user with 0 comments on cluster64 is 874882\n",
            "cluster no. > 65  ... \n",
            "...completed\n",
            "...number of user with 0 comments on cluster65 is 910166\n",
            "cluster no. > 66  ... \n",
            "...completed\n",
            "...number of user with 0 comments on cluster66 is 983002\n",
            "cluster no. > 67  ... \n",
            "...completed\n",
            "...number of user with 0 comments on cluster67 is 993504\n",
            "cluster no. > 68  ... \n",
            "...completed\n",
            "...number of user with 0 comments on cluster68 is 956286\n",
            "cluster no. > 69  ... \n",
            "...completed\n",
            "...number of user with 0 comments on cluster69 is 958277\n",
            "cluster no. > 70  ... \n",
            "...completed\n",
            "...number of user with 0 comments on cluster70 is 910665\n",
            "cluster no. > 71  ... \n",
            "...completed\n",
            "...number of user with 0 comments on cluster71 is 981752\n",
            "cluster no. > 72  ... \n",
            "...completed\n",
            "...number of user with 0 comments on cluster72 is 990609\n",
            "cluster no. > 73  ... \n",
            "...completed\n",
            "...number of user with 0 comments on cluster73 is 990760\n",
            "cluster no. > 74  ... \n",
            "...completed\n",
            "...number of user with 0 comments on cluster74 is 889618\n",
            "cluster no. > 75  ... \n",
            "...completed\n",
            "...number of user with 0 comments on cluster75 is 920680\n",
            "cluster no. > 76  ... \n",
            "...completed\n",
            "...number of user with 0 comments on cluster76 is 883752\n",
            "cluster no. > 77  ... \n",
            "...completed\n",
            "...number of user with 0 comments on cluster77 is 993350\n",
            "cluster no. > 78  ... \n",
            "...completed\n",
            "...number of user with 0 comments on cluster78 is 958542\n",
            "cluster no. > 79  ... \n",
            "...completed\n",
            "...number of user with 0 comments on cluster79 is 913341\n",
            "cluster no. > 80  ... \n",
            "...completed\n",
            "...number of user with 0 comments on cluster80 is 979659\n",
            "cluster no. > 81  ... \n",
            "...completed\n",
            "...number of user with 0 comments on cluster81 is 981033\n",
            "cluster no. > 82  ... \n",
            "...completed\n",
            "...number of user with 0 comments on cluster82 is 998175\n",
            "cluster no. > 83  ... \n",
            "...completed\n",
            "...number of user with 0 comments on cluster83 is 881819\n",
            "cluster no. > 84  ... \n",
            "...completed\n",
            "...number of user with 0 comments on cluster84 is 977605\n",
            "cluster no. > 85  ... \n",
            "...completed\n",
            "...number of user with 0 comments on cluster85 is 972056\n",
            "cluster no. > 86  ... \n",
            "...completed\n",
            "...number of user with 0 comments on cluster86 is 992691\n",
            "cluster no. > 87  ... \n",
            "...completed\n",
            "...number of user with 0 comments on cluster87 is 945025\n",
            "cluster no. > 88  ... \n",
            "...completed\n",
            "...number of user with 0 comments on cluster88 is 954020\n"
          ],
          "name": "stdout"
        }
      ]
    },
    {
      "cell_type": "code",
      "metadata": {
        "id": "UkYesTNy2Adq",
        "outputId": "a7af26a2-9a57-4701-e6fe-37047492d904",
        "colab": {
          "base_uri": "https://localhost:8080/",
          "height": 455
        }
      },
      "source": [
        "#Function to bar plot a dictionary\n",
        "def plot_dict(dict, metric_name):\n",
        "  label = dict.keys()\n",
        "  rng = range(len(label))\n",
        "  plt.xticks(rng, label)\n",
        "  p = plt.bar(rng, dict.values(), 0.8)\n",
        "  plt.ylabel(metric_name)\n",
        "  plt.xlabel('categories')\n",
        "  plt.rcParams[\"figure.figsize\"] = (90,30)\n",
        "  plt.show()\n",
        "\n",
        "\n",
        "plot_dict(mDictionary, 'number of users involed in a business category')"
      ],
      "execution_count": null,
      "outputs": [
        {
          "output_type": "display_data",
          "data": {
            "image/png": "[encoded data removed]",
            "text/plain": [
              "<Figure size 6480x2160 with 1 Axes>"
            ]
          },
          "metadata": {
            "tags": [],
            "needs_background": "light"
          }
        }
      ]
    }
  ]
}